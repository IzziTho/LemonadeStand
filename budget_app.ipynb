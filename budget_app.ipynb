{
 "cells": [
  {
   "cell_type": "code",
   "execution_count": null,
   "metadata": {},
   "outputs": [],
   "source": [
    "# https://docs.python.org/3/library/csv.html\n",
    "import csv\n",
    "\n",
    "current_task = \"\"\n",
    "while current_task != \"q\":\n",
    "   print(\"Press [a] to add a transaction, [b] to view the account balance, [v] to view all transactions, or [q] to quit.\")\n",
    "   current_task = input(\"What would you like to do?\")\n",
    "   # Use a conditional to respond to what the user has chosen by executing one of the functions defined below\n",
    "   if current_task == \"a\":\n",
    "       add_transaction()\n",
    "       print(\"Thanks, I'll add that to the account.\")\n",
    "   elif current_task == \"b\":\n",
    "       view_account_balance()\n",
    "   elif current_task == \"v\":\n",
    "       view_all_transactions()\n",
    "   else: \n",
    "       print(\"Sorry, I didn't understand that command, please try again\")\n",
    "\n",
    "\n",
    "\n",
    "# options menu?\n",
    "    "
   ]
  },
  {
   "attachments": {},
   "cell_type": "markdown",
   "metadata": {},
   "source": [
    "Budget Item,    Budget Type,    Amount,     Date"
   ]
  },
  {
   "cell_type": "code",
   "execution_count": null,
   "metadata": {},
   "outputs": [],
   "source": [
    "def view_all_transactions():\n",
    "    filename = \"transactions.csv\"\n",
    "    file = open(filename, \"r\")\n",
    "    for line in file:\n",
    "        print(line)\n",
    "\n",
    "view_all_transactions()"
   ]
  },
  {
   "cell_type": "code",
   "execution_count": null,
   "metadata": {},
   "outputs": [],
   "source": [
    "import csv\n",
    "\n",
    "def view_account_balance():\n",
    "    total_income = 0\n",
    "    total_expense = 0\n",
    "    income_list = []\n",
    "    expense_list = []\n",
    "    with open (\"transactions.csv\") as csv_file:\n",
    "        csv_reader = csv.reader(csv_file, delimiter=\",\")\n",
    "        next(csv_reader)\n",
    "        \n",
    "        for item, type, amount, date in csv_reader:\n",
    "        #   print(float(row[2]))\n",
    "            if type == \"Income\":\n",
    "                income_list.append(float(amount))\n",
    "        #    print(row)\n",
    "            if type == \"Expense\":\n",
    "                expense_list.append(float(amount))\n",
    "\n",
    "            total_income = sum(income_list)\n",
    "            total_expense = sum(expense_list)\n",
    "            balance = total_income - total_expense\n",
    "    print(balance)\n",
    "    return balance\n",
    "\n",
    "view_account_balance()\n",
    "\n",
    "# round to 2 d.places\n"
   ]
  },
  {
   "cell_type": "code",
   "execution_count": null,
   "metadata": {},
   "outputs": [],
   "source": [
    "def add_transaction():\n",
    "    # create a list, \n",
    "    new_entry = []  \n",
    "\n",
    "    budget_item = input(\"What's the name of the item you want to enter?\")\n",
    "    new_entry.append(budget_item)   \n",
    "\n",
    "    budget_type = input(\"Is your item an 'Income' or an 'Expense'?\")\n",
    "    new_entry.append(budget_type)\n",
    "\n",
    "    amount = float(input(\"How much was the item? Use 00.00 format.\"))\n",
    "    new_entry.append(amount)\n",
    "\n",
    "    date = input(\"What was the date of the transaction? (use mm-dd-2023 format)\")\n",
    "    new_entry.append(date)\n",
    "    \n",
    "    print(new_entry)\n",
    "\n",
    "    #access the CSV file and write new entry into the CSV\n",
    "    my_file = open('transactions.csv', 'a')\n",
    "    writer = csv.writer(my_file)\n",
    "    writer.writerow(new_entry)\n",
    "    my_file.close()\n",
    " # make sure cursor is on new line when writing \n",
    " # make sure you're not adding a new line each time  \n",
    "        \n",
    "add_transaction()\n"
   ]
  },
  {
   "attachments": {},
   "cell_type": "markdown",
   "metadata": {},
   "source": []
  }
 ],
 "metadata": {
  "kernelspec": {
   "display_name": "Python 3",
   "language": "python",
   "name": "python3"
  },
  "language_info": {
   "codemirror_mode": {
    "name": "ipython",
    "version": 3
   },
   "file_extension": ".py",
   "mimetype": "text/x-python",
   "name": "python",
   "nbconvert_exporter": "python",
   "pygments_lexer": "ipython3",
   "version": "3.6.5"
  }
 },
 "nbformat": 4,
 "nbformat_minor": 4
}
