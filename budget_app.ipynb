{
 "cells": [
  {
   "cell_type": "code",
   "execution_count": 22,
   "metadata": {},
   "outputs": [],
   "source": [
    "# https://docs.python.org/3/library/csv.html\n",
    "import csv\n",
    "\n",
    "# current_task = \"\"\n",
    "# while current_task != \"q\":\n",
    "#    print(\"Press [a] to add a transaction, [b] to view the account balance, [v] to view all transactions, or [q] to quit.\")\n",
    "#    current_task = input(\"What would you like to do?\")\n",
    "#    # Use a conditional to respond to what the user has chosen by executing one of the functions defined below\n",
    "#    if current_task == a:\n",
    "#        add_transaction\n",
    "#        print(\"Thanks, I'll add that to the account.\")\n",
    "#    elif current_task == b:\n",
    "#        view_account_balance\n",
    "#    elif current_task == v:\n",
    "#        veiw_all_transactions\n",
    "#    else: \n",
    "#        print(\"Sorry, I didn't understand that command, please try again\")\n",
    "    "
   ]
  },
  {
   "attachments": {},
   "cell_type": "markdown",
   "metadata": {},
   "source": [
    "if current_task = a #create a dictionary here\n",
    "    Use input to ask for the title describing the item\n",
    "    use input to ask if the item is income or expense\n",
    "    use input to ask for the total amount of item (£00.00)\n",
    "    use input to ask for the date of transaction (\"mm-dd-yyyy\")\n",
    "elif current_task = b\n",
    "    print(income-expense)\n",
    "elif current_task = v\n",
    "    print(all details of previous entries)\n",
    "else print an input that says \"I didn't recognice that command, please try again\"\n",
    "\n",
    "Budget Item,    Budget Type,    Amount,     Date"
   ]
  },
  {
   "cell_type": "code",
   "execution_count": 24,
   "metadata": {},
   "outputs": [],
   "source": [
    "def view_all_transactions():\n",
    "    filename = \"transactions.csv\"\n",
    "    file = open(filename, \"r\")\n",
    "    for line in file:\n",
    "        print(line)"
   ]
  },
  {
   "cell_type": "code",
   "execution_count": null,
   "metadata": {},
   "outputs": [],
   "source": [
    "def view_account_balance():\n",
    "    total_income = 0\n",
    "    total_expense = 0\n",
    "    \n",
    "    # Print the value of the account balance\n",
    "    # If the 1st index = Income, add it to total_income\n",
    "    # if the 2nd index = Expense, add it to total_expense\n",
    "    # print(income - expense)"
   ]
  },
  {
   "cell_type": "code",
   "execution_count": 10,
   "metadata": {},
   "outputs": [
    {
     "name": "stdout",
     "output_type": "stream",
     "text": [
      "['Capital from Uncle', 'Income', 200.0, '05-31-2023']\n"
     ]
    }
   ],
   "source": [
    "def add_transaction():\n",
    "    # create a list, \n",
    "    new_entry = []  \n",
    "\n",
    "    budget_item = input(\"What's the name of the item you want to enter?\")\n",
    "    new_entry.append(budget_item)   \n",
    "\n",
    "    budget_type = input(\"Is your item an 'Income' or an 'Expense'?\")\n",
    "    new_entry.append(budget_type)\n",
    "\n",
    "    amount = float(input(\"How much was the item? Use 00.00 format.\"))\n",
    "    new_entry.append(amount)\n",
    "\n",
    "    date = input(\"What was the date of the transaction? (use mm-dd-2023 format)\")\n",
    "    new_entry.append(date)\n",
    "    \n",
    "    print(new_entry)\n",
    "\n",
    "    #access the CSV file and write new entry into the CSV\n",
    "    my_file = open('transactions.csv', 'a')\n",
    "    writer = csv.writer(my_file)\n",
    "    writer.writerow(new_entry)\n",
    "    my_file.close()\n",
    "   \n",
    "        \n",
    "add_transaction()\n"
   ]
  }
 ],
 "metadata": {
  "kernelspec": {
   "display_name": "Python 3",
   "language": "python",
   "name": "python3"
  },
  "language_info": {
   "codemirror_mode": {
    "name": "ipython",
    "version": 3
   },
   "file_extension": ".py",
   "mimetype": "text/x-python",
   "name": "python",
   "nbconvert_exporter": "python",
   "pygments_lexer": "ipython3",
   "version": "3.6.5"
  }
 },
 "nbformat": 4,
 "nbformat_minor": 4
}
