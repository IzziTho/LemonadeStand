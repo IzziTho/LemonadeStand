{
 "cells": [
  {
   "cell_type": "code",
   "execution_count": null,
   "metadata": {},
   "outputs": [],
   "source": [
    "# from pick import pick\n",
    "\n",
    "# title = \"What would you like to do?\"\n",
    "# options = [\"Add a transaction\", \"View my account balance\", \"View all transactions\", \"Quit\"]\n",
    "# option, index = pick(options, title)\n",
    "# print(option)\n",
    "# print(index)"
   ]
  },
  {
   "cell_type": "code",
   "execution_count": 1,
   "metadata": {},
   "outputs": [
    {
     "name": "stdout",
     "output_type": "stream",
     "text": [
      "Press [a] to add a transaction, [b] to view the account balance, [v] to view all transactions, or [q] to quit.\n",
      "Sorry, I didn't understand that command, please try again\n",
      "Press [a] to add a transaction, [b] to view the account balance, [v] to view all transactions, or [q] to quit.\n",
      "Sorry, I didn't understand that command, please try again\n"
     ]
    }
   ],
   "source": [
    "import csv\n",
    "\n",
    "\n",
    "current_task = \"\"\n",
    "while current_task != \"q\":\n",
    "   print(\"Press [a] to add a transaction, [b] to view the account balance, [v] to view all transactions, or [q] to quit.\")\n",
    "   current_task = input(\"What would you like to do?\")\n",
    "\n",
    "   if current_task == \"a\":\n",
    "       add_transaction()\n",
    "   elif current_task == \"b\":\n",
    "       view_account_balance()\n",
    "   elif current_task == \"v\":\n",
    "       view_all_transactions()\n",
    "   else: \n",
    "       print(\"Sorry, I didn't understand that command, please try again\")\n",
    "\n",
    "\n",
    "\n",
    "# options menu?\n",
    "    "
   ]
  },
  {
   "attachments": {},
   "cell_type": "markdown",
   "metadata": {},
   "source": [
    "Budget Item,    Budget Type,    Amount,     Date"
   ]
  },
  {
   "cell_type": "code",
   "execution_count": 2,
   "metadata": {},
   "outputs": [
    {
     "name": "stdout",
     "output_type": "stream",
     "text": [
      "['Item', ' Type', ' Amount', ' Date']\n",
      "['Capital from Uncle', 'Income', '200.0', '06-01-2023']\n",
      "['10 lemons', 'Expense', '3.0', '06-01-2023']\n",
      "['1kg sugar', 'Expense', '1.75', '06-01-2023']\n",
      "['2kg ice', 'Expense', '3.5', '06-01-2023']\n",
      "['Table', 'Expense', '22.99', '06-01-2023']\n",
      "['Tablecloth', 'Expense', '6.0', '06-01-2023']\n",
      "['3 jugs', 'Expense', '9.99', '06-01-2023']\n",
      "['1 lemonade', 'Income', '2.5', '06-02-2023']\n"
     ]
    }
   ],
   "source": [
    "# Function to veiw all transaction history\n",
    "import csv\n",
    "\n",
    "def view_all_transactions():\n",
    "    with open (\"transactions.csv\", \"r\") as file:\n",
    "        csv_reader = csv.reader(file)\n",
    "        for line in csv_reader:\n",
    "            print(line)\n",
    "\n",
    "view_all_transactions()"
   ]
  },
  {
   "cell_type": "code",
   "execution_count": 60,
   "metadata": {},
   "outputs": [
    {
     "name": "stdout",
     "output_type": "stream",
     "text": [
      "Current income = £202.5\n",
      "Current expense = £47.23\n",
      "Your current balance is £155.27\n"
     ]
    },
    {
     "data": {
      "text/plain": [
       "155.27"
      ]
     },
     "execution_count": 60,
     "metadata": {},
     "output_type": "execute_result"
    }
   ],
   "source": [
    "# Function to calculate current balance of main account\n",
    "import csv\n",
    "\n",
    "def view_account_balance():\n",
    "    total_income = 0\n",
    "    total_expense = 0\n",
    "    income_list = []\n",
    "    expense_list = []\n",
    "    with open (\"transactions.csv\") as csv_file:\n",
    "        csv_reader = csv.reader(csv_file, delimiter=\",\")\n",
    "        next(csv_reader)  \n",
    "        for row in csv_reader:\n",
    "            # print(row)\n",
    "            if row[1] == \"Income\":\n",
    "                income_list.append(float(row[2]))\n",
    "            # print(income_list)\n",
    "            if row[1] == \"Expense\":\n",
    "                expense_list.append(float(row[2]))\n",
    "            # print(expense_list)\n",
    "\n",
    "            total_income = sum(income_list)\n",
    "            total_expense = sum(expense_list)\n",
    "            balance = total_income - total_expense\n",
    "            rounded_balance = round(balance, 2)\n",
    "    print(f\"Current income = £{total_income}\")\n",
    "    print(f\"Current expense = £{total_expense}\")        \n",
    "    print(f\"Your current balance is £{rounded_balance}\")\n",
    "    return balance\n",
    "\n",
    "view_account_balance()\n"
   ]
  },
  {
   "cell_type": "code",
   "execution_count": 58,
   "metadata": {},
   "outputs": [
    {
     "name": "stdout",
     "output_type": "stream",
     "text": [
      "1 lemonade was an Income of 2.5 on 06-02-2023\n",
      "Thanks, I'll add that to the account.\n"
     ]
    }
   ],
   "source": [
    "# Function to add a new transaction to CSV file\n",
    "import csv \n",
    "\n",
    "def add_transaction():\n",
    "  \n",
    "    new_entry = []  \n",
    "\n",
    "    budget_item = input(\"What's the name of the item you want to enter?\")\n",
    "    new_entry.append(budget_item)   \n",
    "\n",
    "    budget_type = input(\"Is your item an 'Income' or an 'Expense'?\")\n",
    "    new_entry.append(budget_type)\n",
    "\n",
    "    amount = float(input(\"How much was the item? Use 00.00 format.\"))\n",
    "    new_entry.append(amount)\n",
    "\n",
    "    date = input(\"What was the date of the transaction? (use mm-dd-2023 format)\")\n",
    "    new_entry.append(date)\n",
    "    \n",
    "    print(f\"{budget_item} was an {budget_type} of £{amount} on {date}\")\n",
    "    print(\"Thanks, I'll add that to the account.\")\n",
    "\n",
    "    with open(\"transactions.csv\", \"a\", newline=\"\", encoding=\"utf-8\") as file: \n",
    "        csv_writer = csv.writer(file, lineterminator=\"\\n\")\n",
    "        csv_writer.writerow(new_entry)\n",
    "\n",
    "        \n",
    "add_transaction()\n"
   ]
  },
  {
   "attachments": {},
   "cell_type": "markdown",
   "metadata": {},
   "source": []
  }
 ],
 "metadata": {
  "kernelspec": {
   "display_name": "Python 3",
   "language": "python",
   "name": "python3"
  },
  "language_info": {
   "codemirror_mode": {
    "name": "ipython",
    "version": 3
   },
   "file_extension": ".py",
   "mimetype": "text/x-python",
   "name": "python",
   "nbconvert_exporter": "python",
   "pygments_lexer": "ipython3",
   "version": "3.6.5"
  }
 },
 "nbformat": 4,
 "nbformat_minor": 4
}
